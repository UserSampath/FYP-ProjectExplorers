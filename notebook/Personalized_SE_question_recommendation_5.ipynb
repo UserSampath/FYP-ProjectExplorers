{
  "nbformat": 4,
  "nbformat_minor": 0,
  "metadata": {
    "colab": {
      "provenance": []
    },
    "kernelspec": {
      "name": "python3",
      "display_name": "Python 3"
    },
    "language_info": {
      "name": "python"
    }
  },
  "cells": [
    {
      "cell_type": "markdown",
      "source": [
        "# **1. Load Necessary Libraries**"
      ],
      "metadata": {
        "id": "_CkeM88XcfXG"
      }
    },
    {
      "cell_type": "code",
      "source": [
        "from google.colab import drive\n",
        "drive.mount('/content/drive')"
      ],
      "metadata": {
        "colab": {
          "base_uri": "https://localhost:8080/"
        },
        "id": "K2vbecO1rJ18",
        "outputId": "71161073-f4ad-4cfd-9750-0dfe6a31deae"
      },
      "execution_count": 70,
      "outputs": [
        {
          "output_type": "stream",
          "name": "stdout",
          "text": [
            "Drive already mounted at /content/drive; to attempt to forcibly remount, call drive.mount(\"/content/drive\", force_remount=True).\n"
          ]
        }
      ]
    },
    {
      "cell_type": "code",
      "source": [
        "import pandas as pd\n",
        "import numpy as np\n",
        "from sklearn.preprocessing import MinMaxScaler\n",
        "from sklearn.neighbors import NearestNeighbors\n",
        "from scipy.sparse.linalg import svds\n",
        "from sklearn.feature_extraction.text import TfidfVectorizer\n",
        "from sklearn.decomposition import TruncatedSVD\n",
        "from sklearn.metrics.pairwise import cosine_similarity\n",
        "import re"
      ],
      "metadata": {
        "id": "U9D4nXPnc4l3"
      },
      "execution_count": 71,
      "outputs": []
    },
    {
      "cell_type": "markdown",
      "source": [
        "# **2. Load and Preprocess Data**"
      ],
      "metadata": {
        "id": "8N3vK8uFc_-I"
      }
    },
    {
      "cell_type": "code",
      "source": [
        "# Define file paths\n",
        "question_path = \"/content/drive/MyDrive/dataset/question.csv\"\n",
        "users_path = \"/content/drive/MyDrive/dataset/user.csv\"\n",
        "question_user_path = \"/content/drive/MyDrive/dataset/interaction.csv\"\n",
        "job_titles_path = \"/content/drive/MyDrive/dataset/jobTitles.csv\""
      ],
      "metadata": {
        "id": "riMzdWQEhkpV"
      },
      "execution_count": 72,
      "outputs": []
    },
    {
      "cell_type": "code",
      "source": [
        "# Load datasets\n",
        "dfQuestion = pd.read_csv(question_path)\n",
        "dfUsers = pd.read_csv(users_path)\n",
        "dfQuestionUser = pd.read_csv(question_user_path)\n",
        "dfJobTitles = pd.read_csv(job_titles_path)"
      ],
      "metadata": {
        "id": "bUDN0m_ahmkH"
      },
      "execution_count": 73,
      "outputs": []
    },
    {
      "cell_type": "code",
      "source": [
        "# Drop unnecessary columns\n",
        "#dfUsers.drop(columns=[\"Timestamp\"], inplace=True)"
      ],
      "metadata": {
        "id": "MrOaRB8ahoUi"
      },
      "execution_count": 74,
      "outputs": []
    },
    {
      "cell_type": "code",
      "source": [
        "# Convert 'timeTaken' to numeric and fill NaN with median\n",
        "dfQuestionUser['time_taken'] = pd.to_numeric(dfQuestionUser['time_taken'], errors='coerce')\n",
        "dfQuestionUser['time_taken'].fillna(dfQuestionUser['time_taken'].median(), inplace=True)"
      ],
      "metadata": {
        "colab": {
          "base_uri": "https://localhost:8080/"
        },
        "id": "MawfrGcXhrK-",
        "outputId": "eac87290-a6e3-443d-b974-42ea1ce4bc75",
        "collapsed": true
      },
      "execution_count": 75,
      "outputs": [
        {
          "output_type": "stream",
          "name": "stderr",
          "text": [
            "<ipython-input-75-122c1a4f6e0f>:3: FutureWarning: A value is trying to be set on a copy of a DataFrame or Series through chained assignment using an inplace method.\n",
            "The behavior will change in pandas 3.0. This inplace method will never work because the intermediate object on which we are setting values always behaves as a copy.\n",
            "\n",
            "For example, when doing 'df[col].method(value, inplace=True)', try using 'df.method({col: value}, inplace=True)' or df[col] = df[col].method(value) instead, to perform the operation inplace on the original object.\n",
            "\n",
            "\n",
            "  dfQuestionUser['time_taken'].fillna(dfQuestionUser['time_taken'].median(), inplace=True)\n"
          ]
        }
      ]
    },
    {
      "cell_type": "code",
      "source": [
        "# Min-Max Normalization per user\n",
        "minmax_scaler = MinMaxScaler()\n",
        "dfQuestionUser['timeTaken_minmax'] = dfQuestionUser.groupby('user_id')['time_taken'].transform(\n",
        "    lambda x: minmax_scaler.fit_transform(x.values.reshape(-1, 1)).flatten() if len(x) > 1 else 0\n",
        ")\n"
      ],
      "metadata": {
        "id": "lk_SfH3zhr3F"
      },
      "execution_count": 76,
      "outputs": []
    },
    {
      "cell_type": "code",
      "source": [
        "# Convert 'correct' column to numeric values\n",
        "dfQuestionUser['answerd_correctly'] = dfQuestionUser['answerd_correctly'].map({'Yes': 1, 'No': 0})"
      ],
      "metadata": {
        "id": "3xztAquahva7"
      },
      "execution_count": 77,
      "outputs": []
    },
    {
      "cell_type": "code",
      "source": [
        "# Encode difficulty levels numerically\n",
        "difficulty_mapping = {'Easy': 1, 'Medium': 2, 'Hard': 3}\n",
        "dfQuestion['difficulty_encoded'] = dfQuestion['difficulty_level'].map(difficulty_mapping)\n",
        "\n",
        "# Merge difficulty encoding into interactions dataset\n",
        "dfQuestionUser = dfQuestionUser.merge(dfQuestion[['question_id', 'difficulty_encoded']], on='question_id', how='left')\n"
      ],
      "metadata": {
        "id": "3nR-EJYVhxgM"
      },
      "execution_count": 78,
      "outputs": []
    },
    {
      "cell_type": "markdown",
      "source": [
        "# **3. Collaborative Filtering (CF)**"
      ],
      "metadata": {
        "id": "oqqDKzMofQwJ"
      }
    },
    {
      "cell_type": "code",
      "source": [
        "# Compute weighted interaction score\n",
        "dfQuestionUser['weighted_score'] = (\n",
        "    dfQuestionUser['answerd_correctly'] + dfQuestionUser['timeTaken_minmax'] + dfQuestionUser['difficulty_encoded']\n",
        ") / 3  # Averaging approach"
      ],
      "metadata": {
        "id": "Vv0knl37gFmI"
      },
      "execution_count": 79,
      "outputs": []
    },
    {
      "cell_type": "code",
      "source": [
        "# Create interaction matrix\n",
        "interaction_matrix = dfQuestionUser.pivot(index='user_id', columns='question_id', values='weighted_score').fillna(0)\n",
        "interaction_matrix_np = interaction_matrix.values.astype(float)"
      ],
      "metadata": {
        "id": "ABKJMfSFgJoU"
      },
      "execution_count": 80,
      "outputs": []
    },
    {
      "cell_type": "code",
      "source": [
        "# Apply KNN-based Collaborative Filtering\n",
        "knn = NearestNeighbors(metric='cosine', algorithm='brute')\n",
        "knn.fit(interaction_matrix_np)"
      ],
      "metadata": {
        "colab": {
          "base_uri": "https://localhost:8080/",
          "height": 80
        },
        "id": "lYpvQdmZgL2q",
        "outputId": "2f852163-900c-47c2-a321-5a08e432e7a2"
      },
      "execution_count": 81,
      "outputs": [
        {
          "output_type": "execute_result",
          "data": {
            "text/plain": [
              "NearestNeighbors(algorithm='brute', metric='cosine')"
            ],
            "text/html": [
              "<style>#sk-container-id-3 {\n",
              "  /* Definition of color scheme common for light and dark mode */\n",
              "  --sklearn-color-text: #000;\n",
              "  --sklearn-color-text-muted: #666;\n",
              "  --sklearn-color-line: gray;\n",
              "  /* Definition of color scheme for unfitted estimators */\n",
              "  --sklearn-color-unfitted-level-0: #fff5e6;\n",
              "  --sklearn-color-unfitted-level-1: #f6e4d2;\n",
              "  --sklearn-color-unfitted-level-2: #ffe0b3;\n",
              "  --sklearn-color-unfitted-level-3: chocolate;\n",
              "  /* Definition of color scheme for fitted estimators */\n",
              "  --sklearn-color-fitted-level-0: #f0f8ff;\n",
              "  --sklearn-color-fitted-level-1: #d4ebff;\n",
              "  --sklearn-color-fitted-level-2: #b3dbfd;\n",
              "  --sklearn-color-fitted-level-3: cornflowerblue;\n",
              "\n",
              "  /* Specific color for light theme */\n",
              "  --sklearn-color-text-on-default-background: var(--sg-text-color, var(--theme-code-foreground, var(--jp-content-font-color1, black)));\n",
              "  --sklearn-color-background: var(--sg-background-color, var(--theme-background, var(--jp-layout-color0, white)));\n",
              "  --sklearn-color-border-box: var(--sg-text-color, var(--theme-code-foreground, var(--jp-content-font-color1, black)));\n",
              "  --sklearn-color-icon: #696969;\n",
              "\n",
              "  @media (prefers-color-scheme: dark) {\n",
              "    /* Redefinition of color scheme for dark theme */\n",
              "    --sklearn-color-text-on-default-background: var(--sg-text-color, var(--theme-code-foreground, var(--jp-content-font-color1, white)));\n",
              "    --sklearn-color-background: var(--sg-background-color, var(--theme-background, var(--jp-layout-color0, #111)));\n",
              "    --sklearn-color-border-box: var(--sg-text-color, var(--theme-code-foreground, var(--jp-content-font-color1, white)));\n",
              "    --sklearn-color-icon: #878787;\n",
              "  }\n",
              "}\n",
              "\n",
              "#sk-container-id-3 {\n",
              "  color: var(--sklearn-color-text);\n",
              "}\n",
              "\n",
              "#sk-container-id-3 pre {\n",
              "  padding: 0;\n",
              "}\n",
              "\n",
              "#sk-container-id-3 input.sk-hidden--visually {\n",
              "  border: 0;\n",
              "  clip: rect(1px 1px 1px 1px);\n",
              "  clip: rect(1px, 1px, 1px, 1px);\n",
              "  height: 1px;\n",
              "  margin: -1px;\n",
              "  overflow: hidden;\n",
              "  padding: 0;\n",
              "  position: absolute;\n",
              "  width: 1px;\n",
              "}\n",
              "\n",
              "#sk-container-id-3 div.sk-dashed-wrapped {\n",
              "  border: 1px dashed var(--sklearn-color-line);\n",
              "  margin: 0 0.4em 0.5em 0.4em;\n",
              "  box-sizing: border-box;\n",
              "  padding-bottom: 0.4em;\n",
              "  background-color: var(--sklearn-color-background);\n",
              "}\n",
              "\n",
              "#sk-container-id-3 div.sk-container {\n",
              "  /* jupyter's `normalize.less` sets `[hidden] { display: none; }`\n",
              "     but bootstrap.min.css set `[hidden] { display: none !important; }`\n",
              "     so we also need the `!important` here to be able to override the\n",
              "     default hidden behavior on the sphinx rendered scikit-learn.org.\n",
              "     See: https://github.com/scikit-learn/scikit-learn/issues/21755 */\n",
              "  display: inline-block !important;\n",
              "  position: relative;\n",
              "}\n",
              "\n",
              "#sk-container-id-3 div.sk-text-repr-fallback {\n",
              "  display: none;\n",
              "}\n",
              "\n",
              "div.sk-parallel-item,\n",
              "div.sk-serial,\n",
              "div.sk-item {\n",
              "  /* draw centered vertical line to link estimators */\n",
              "  background-image: linear-gradient(var(--sklearn-color-text-on-default-background), var(--sklearn-color-text-on-default-background));\n",
              "  background-size: 2px 100%;\n",
              "  background-repeat: no-repeat;\n",
              "  background-position: center center;\n",
              "}\n",
              "\n",
              "/* Parallel-specific style estimator block */\n",
              "\n",
              "#sk-container-id-3 div.sk-parallel-item::after {\n",
              "  content: \"\";\n",
              "  width: 100%;\n",
              "  border-bottom: 2px solid var(--sklearn-color-text-on-default-background);\n",
              "  flex-grow: 1;\n",
              "}\n",
              "\n",
              "#sk-container-id-3 div.sk-parallel {\n",
              "  display: flex;\n",
              "  align-items: stretch;\n",
              "  justify-content: center;\n",
              "  background-color: var(--sklearn-color-background);\n",
              "  position: relative;\n",
              "}\n",
              "\n",
              "#sk-container-id-3 div.sk-parallel-item {\n",
              "  display: flex;\n",
              "  flex-direction: column;\n",
              "}\n",
              "\n",
              "#sk-container-id-3 div.sk-parallel-item:first-child::after {\n",
              "  align-self: flex-end;\n",
              "  width: 50%;\n",
              "}\n",
              "\n",
              "#sk-container-id-3 div.sk-parallel-item:last-child::after {\n",
              "  align-self: flex-start;\n",
              "  width: 50%;\n",
              "}\n",
              "\n",
              "#sk-container-id-3 div.sk-parallel-item:only-child::after {\n",
              "  width: 0;\n",
              "}\n",
              "\n",
              "/* Serial-specific style estimator block */\n",
              "\n",
              "#sk-container-id-3 div.sk-serial {\n",
              "  display: flex;\n",
              "  flex-direction: column;\n",
              "  align-items: center;\n",
              "  background-color: var(--sklearn-color-background);\n",
              "  padding-right: 1em;\n",
              "  padding-left: 1em;\n",
              "}\n",
              "\n",
              "\n",
              "/* Toggleable style: style used for estimator/Pipeline/ColumnTransformer box that is\n",
              "clickable and can be expanded/collapsed.\n",
              "- Pipeline and ColumnTransformer use this feature and define the default style\n",
              "- Estimators will overwrite some part of the style using the `sk-estimator` class\n",
              "*/\n",
              "\n",
              "/* Pipeline and ColumnTransformer style (default) */\n",
              "\n",
              "#sk-container-id-3 div.sk-toggleable {\n",
              "  /* Default theme specific background. It is overwritten whether we have a\n",
              "  specific estimator or a Pipeline/ColumnTransformer */\n",
              "  background-color: var(--sklearn-color-background);\n",
              "}\n",
              "\n",
              "/* Toggleable label */\n",
              "#sk-container-id-3 label.sk-toggleable__label {\n",
              "  cursor: pointer;\n",
              "  display: flex;\n",
              "  width: 100%;\n",
              "  margin-bottom: 0;\n",
              "  padding: 0.5em;\n",
              "  box-sizing: border-box;\n",
              "  text-align: center;\n",
              "  align-items: start;\n",
              "  justify-content: space-between;\n",
              "  gap: 0.5em;\n",
              "}\n",
              "\n",
              "#sk-container-id-3 label.sk-toggleable__label .caption {\n",
              "  font-size: 0.6rem;\n",
              "  font-weight: lighter;\n",
              "  color: var(--sklearn-color-text-muted);\n",
              "}\n",
              "\n",
              "#sk-container-id-3 label.sk-toggleable__label-arrow:before {\n",
              "  /* Arrow on the left of the label */\n",
              "  content: \"▸\";\n",
              "  float: left;\n",
              "  margin-right: 0.25em;\n",
              "  color: var(--sklearn-color-icon);\n",
              "}\n",
              "\n",
              "#sk-container-id-3 label.sk-toggleable__label-arrow:hover:before {\n",
              "  color: var(--sklearn-color-text);\n",
              "}\n",
              "\n",
              "/* Toggleable content - dropdown */\n",
              "\n",
              "#sk-container-id-3 div.sk-toggleable__content {\n",
              "  max-height: 0;\n",
              "  max-width: 0;\n",
              "  overflow: hidden;\n",
              "  text-align: left;\n",
              "  /* unfitted */\n",
              "  background-color: var(--sklearn-color-unfitted-level-0);\n",
              "}\n",
              "\n",
              "#sk-container-id-3 div.sk-toggleable__content.fitted {\n",
              "  /* fitted */\n",
              "  background-color: var(--sklearn-color-fitted-level-0);\n",
              "}\n",
              "\n",
              "#sk-container-id-3 div.sk-toggleable__content pre {\n",
              "  margin: 0.2em;\n",
              "  border-radius: 0.25em;\n",
              "  color: var(--sklearn-color-text);\n",
              "  /* unfitted */\n",
              "  background-color: var(--sklearn-color-unfitted-level-0);\n",
              "}\n",
              "\n",
              "#sk-container-id-3 div.sk-toggleable__content.fitted pre {\n",
              "  /* unfitted */\n",
              "  background-color: var(--sklearn-color-fitted-level-0);\n",
              "}\n",
              "\n",
              "#sk-container-id-3 input.sk-toggleable__control:checked~div.sk-toggleable__content {\n",
              "  /* Expand drop-down */\n",
              "  max-height: 200px;\n",
              "  max-width: 100%;\n",
              "  overflow: auto;\n",
              "}\n",
              "\n",
              "#sk-container-id-3 input.sk-toggleable__control:checked~label.sk-toggleable__label-arrow:before {\n",
              "  content: \"▾\";\n",
              "}\n",
              "\n",
              "/* Pipeline/ColumnTransformer-specific style */\n",
              "\n",
              "#sk-container-id-3 div.sk-label input.sk-toggleable__control:checked~label.sk-toggleable__label {\n",
              "  color: var(--sklearn-color-text);\n",
              "  background-color: var(--sklearn-color-unfitted-level-2);\n",
              "}\n",
              "\n",
              "#sk-container-id-3 div.sk-label.fitted input.sk-toggleable__control:checked~label.sk-toggleable__label {\n",
              "  background-color: var(--sklearn-color-fitted-level-2);\n",
              "}\n",
              "\n",
              "/* Estimator-specific style */\n",
              "\n",
              "/* Colorize estimator box */\n",
              "#sk-container-id-3 div.sk-estimator input.sk-toggleable__control:checked~label.sk-toggleable__label {\n",
              "  /* unfitted */\n",
              "  background-color: var(--sklearn-color-unfitted-level-2);\n",
              "}\n",
              "\n",
              "#sk-container-id-3 div.sk-estimator.fitted input.sk-toggleable__control:checked~label.sk-toggleable__label {\n",
              "  /* fitted */\n",
              "  background-color: var(--sklearn-color-fitted-level-2);\n",
              "}\n",
              "\n",
              "#sk-container-id-3 div.sk-label label.sk-toggleable__label,\n",
              "#sk-container-id-3 div.sk-label label {\n",
              "  /* The background is the default theme color */\n",
              "  color: var(--sklearn-color-text-on-default-background);\n",
              "}\n",
              "\n",
              "/* On hover, darken the color of the background */\n",
              "#sk-container-id-3 div.sk-label:hover label.sk-toggleable__label {\n",
              "  color: var(--sklearn-color-text);\n",
              "  background-color: var(--sklearn-color-unfitted-level-2);\n",
              "}\n",
              "\n",
              "/* Label box, darken color on hover, fitted */\n",
              "#sk-container-id-3 div.sk-label.fitted:hover label.sk-toggleable__label.fitted {\n",
              "  color: var(--sklearn-color-text);\n",
              "  background-color: var(--sklearn-color-fitted-level-2);\n",
              "}\n",
              "\n",
              "/* Estimator label */\n",
              "\n",
              "#sk-container-id-3 div.sk-label label {\n",
              "  font-family: monospace;\n",
              "  font-weight: bold;\n",
              "  display: inline-block;\n",
              "  line-height: 1.2em;\n",
              "}\n",
              "\n",
              "#sk-container-id-3 div.sk-label-container {\n",
              "  text-align: center;\n",
              "}\n",
              "\n",
              "/* Estimator-specific */\n",
              "#sk-container-id-3 div.sk-estimator {\n",
              "  font-family: monospace;\n",
              "  border: 1px dotted var(--sklearn-color-border-box);\n",
              "  border-radius: 0.25em;\n",
              "  box-sizing: border-box;\n",
              "  margin-bottom: 0.5em;\n",
              "  /* unfitted */\n",
              "  background-color: var(--sklearn-color-unfitted-level-0);\n",
              "}\n",
              "\n",
              "#sk-container-id-3 div.sk-estimator.fitted {\n",
              "  /* fitted */\n",
              "  background-color: var(--sklearn-color-fitted-level-0);\n",
              "}\n",
              "\n",
              "/* on hover */\n",
              "#sk-container-id-3 div.sk-estimator:hover {\n",
              "  /* unfitted */\n",
              "  background-color: var(--sklearn-color-unfitted-level-2);\n",
              "}\n",
              "\n",
              "#sk-container-id-3 div.sk-estimator.fitted:hover {\n",
              "  /* fitted */\n",
              "  background-color: var(--sklearn-color-fitted-level-2);\n",
              "}\n",
              "\n",
              "/* Specification for estimator info (e.g. \"i\" and \"?\") */\n",
              "\n",
              "/* Common style for \"i\" and \"?\" */\n",
              "\n",
              ".sk-estimator-doc-link,\n",
              "a:link.sk-estimator-doc-link,\n",
              "a:visited.sk-estimator-doc-link {\n",
              "  float: right;\n",
              "  font-size: smaller;\n",
              "  line-height: 1em;\n",
              "  font-family: monospace;\n",
              "  background-color: var(--sklearn-color-background);\n",
              "  border-radius: 1em;\n",
              "  height: 1em;\n",
              "  width: 1em;\n",
              "  text-decoration: none !important;\n",
              "  margin-left: 0.5em;\n",
              "  text-align: center;\n",
              "  /* unfitted */\n",
              "  border: var(--sklearn-color-unfitted-level-1) 1pt solid;\n",
              "  color: var(--sklearn-color-unfitted-level-1);\n",
              "}\n",
              "\n",
              ".sk-estimator-doc-link.fitted,\n",
              "a:link.sk-estimator-doc-link.fitted,\n",
              "a:visited.sk-estimator-doc-link.fitted {\n",
              "  /* fitted */\n",
              "  border: var(--sklearn-color-fitted-level-1) 1pt solid;\n",
              "  color: var(--sklearn-color-fitted-level-1);\n",
              "}\n",
              "\n",
              "/* On hover */\n",
              "div.sk-estimator:hover .sk-estimator-doc-link:hover,\n",
              ".sk-estimator-doc-link:hover,\n",
              "div.sk-label-container:hover .sk-estimator-doc-link:hover,\n",
              ".sk-estimator-doc-link:hover {\n",
              "  /* unfitted */\n",
              "  background-color: var(--sklearn-color-unfitted-level-3);\n",
              "  color: var(--sklearn-color-background);\n",
              "  text-decoration: none;\n",
              "}\n",
              "\n",
              "div.sk-estimator.fitted:hover .sk-estimator-doc-link.fitted:hover,\n",
              ".sk-estimator-doc-link.fitted:hover,\n",
              "div.sk-label-container:hover .sk-estimator-doc-link.fitted:hover,\n",
              ".sk-estimator-doc-link.fitted:hover {\n",
              "  /* fitted */\n",
              "  background-color: var(--sklearn-color-fitted-level-3);\n",
              "  color: var(--sklearn-color-background);\n",
              "  text-decoration: none;\n",
              "}\n",
              "\n",
              "/* Span, style for the box shown on hovering the info icon */\n",
              ".sk-estimator-doc-link span {\n",
              "  display: none;\n",
              "  z-index: 9999;\n",
              "  position: relative;\n",
              "  font-weight: normal;\n",
              "  right: .2ex;\n",
              "  padding: .5ex;\n",
              "  margin: .5ex;\n",
              "  width: min-content;\n",
              "  min-width: 20ex;\n",
              "  max-width: 50ex;\n",
              "  color: var(--sklearn-color-text);\n",
              "  box-shadow: 2pt 2pt 4pt #999;\n",
              "  /* unfitted */\n",
              "  background: var(--sklearn-color-unfitted-level-0);\n",
              "  border: .5pt solid var(--sklearn-color-unfitted-level-3);\n",
              "}\n",
              "\n",
              ".sk-estimator-doc-link.fitted span {\n",
              "  /* fitted */\n",
              "  background: var(--sklearn-color-fitted-level-0);\n",
              "  border: var(--sklearn-color-fitted-level-3);\n",
              "}\n",
              "\n",
              ".sk-estimator-doc-link:hover span {\n",
              "  display: block;\n",
              "}\n",
              "\n",
              "/* \"?\"-specific style due to the `<a>` HTML tag */\n",
              "\n",
              "#sk-container-id-3 a.estimator_doc_link {\n",
              "  float: right;\n",
              "  font-size: 1rem;\n",
              "  line-height: 1em;\n",
              "  font-family: monospace;\n",
              "  background-color: var(--sklearn-color-background);\n",
              "  border-radius: 1rem;\n",
              "  height: 1rem;\n",
              "  width: 1rem;\n",
              "  text-decoration: none;\n",
              "  /* unfitted */\n",
              "  color: var(--sklearn-color-unfitted-level-1);\n",
              "  border: var(--sklearn-color-unfitted-level-1) 1pt solid;\n",
              "}\n",
              "\n",
              "#sk-container-id-3 a.estimator_doc_link.fitted {\n",
              "  /* fitted */\n",
              "  border: var(--sklearn-color-fitted-level-1) 1pt solid;\n",
              "  color: var(--sklearn-color-fitted-level-1);\n",
              "}\n",
              "\n",
              "/* On hover */\n",
              "#sk-container-id-3 a.estimator_doc_link:hover {\n",
              "  /* unfitted */\n",
              "  background-color: var(--sklearn-color-unfitted-level-3);\n",
              "  color: var(--sklearn-color-background);\n",
              "  text-decoration: none;\n",
              "}\n",
              "\n",
              "#sk-container-id-3 a.estimator_doc_link.fitted:hover {\n",
              "  /* fitted */\n",
              "  background-color: var(--sklearn-color-fitted-level-3);\n",
              "}\n",
              "</style><div id=\"sk-container-id-3\" class=\"sk-top-container\"><div class=\"sk-text-repr-fallback\"><pre>NearestNeighbors(algorithm=&#x27;brute&#x27;, metric=&#x27;cosine&#x27;)</pre><b>In a Jupyter environment, please rerun this cell to show the HTML representation or trust the notebook. <br />On GitHub, the HTML representation is unable to render, please try loading this page with nbviewer.org.</b></div><div class=\"sk-container\" hidden><div class=\"sk-item\"><div class=\"sk-estimator fitted sk-toggleable\"><input class=\"sk-toggleable__control sk-hidden--visually\" id=\"sk-estimator-id-3\" type=\"checkbox\" checked><label for=\"sk-estimator-id-3\" class=\"sk-toggleable__label fitted sk-toggleable__label-arrow\"><div><div>NearestNeighbors</div></div><div><a class=\"sk-estimator-doc-link fitted\" rel=\"noreferrer\" target=\"_blank\" href=\"https://scikit-learn.org/1.6/modules/generated/sklearn.neighbors.NearestNeighbors.html\">?<span>Documentation for NearestNeighbors</span></a><span class=\"sk-estimator-doc-link fitted\">i<span>Fitted</span></span></div></label><div class=\"sk-toggleable__content fitted\"><pre>NearestNeighbors(algorithm=&#x27;brute&#x27;, metric=&#x27;cosine&#x27;)</pre></div> </div></div></div></div>"
            ]
          },
          "metadata": {},
          "execution_count": 81
        }
      ]
    },
    {
      "cell_type": "code",
      "source": [
        "# Apply SVD (Singular Value Decomposition)\n",
        "U, sigma, Vt = svds(interaction_matrix_np, k=5)\n",
        "sigma = np.diag(sigma)\n",
        "predicted_scores = np.dot(np.dot(U, sigma), Vt)\n",
        "predicted_df = pd.DataFrame(predicted_scores, index=interaction_matrix.index, columns=interaction_matrix.columns)\n"
      ],
      "metadata": {
        "id": "5KrhZbQpgN-f"
      },
      "execution_count": 82,
      "outputs": []
    },
    {
      "cell_type": "code",
      "source": [
        "# Function to get answered questions\n",
        "def get_answered_questions(user_id):\n",
        "    return set(dfQuestionUser[dfQuestionUser['user_id'] == user_id]['question_id'].tolist())\n"
      ],
      "metadata": {
        "id": "F0Vkn6bJgRvH"
      },
      "execution_count": 83,
      "outputs": []
    },
    {
      "cell_type": "code",
      "source": [
        "# CF Recommendation Function\n",
        "def recommend_questions_collab(user_id, num_questions=5):\n",
        "    if user_id not in predicted_df.index:\n",
        "        return []\n",
        "\n",
        "    answered_questions = get_answered_questions(user_id)\n",
        "    sorted_questions = predicted_df.loc[user_id].sort_values(ascending=False)\n",
        "    recommended_questions = [q for q in sorted_questions.index if q not in answered_questions]\n",
        "\n",
        "    return recommended_questions[:num_questions]\n"
      ],
      "metadata": {
        "id": "pzWFrOyQgULs"
      },
      "execution_count": 84,
      "outputs": []
    },
    {
      "cell_type": "markdown",
      "source": [
        "# **4. Content-Based Filtering (CBF)**"
      ],
      "metadata": {
        "id": "utWy3NlRgVZc"
      }
    },
    {
      "cell_type": "code",
      "source": [
        "# Combine textual features\n",
        "dfQuestion.fillna('', inplace=True)\n",
        "dfQuestion['combined'] = dfQuestion[['topic', 'tags', 'question']].apply(lambda x: ' '.join(x), axis=1)\n"
      ],
      "metadata": {
        "id": "u5AGtOQ3gjI4"
      },
      "execution_count": 85,
      "outputs": []
    },
    {
      "cell_type": "code",
      "source": [
        "# Apply TF-IDF Vectorization\n",
        "vectorizer = TfidfVectorizer()\n",
        "question_tfidf_matrix = vectorizer.fit_transform(dfQuestion['combined'])"
      ],
      "metadata": {
        "id": "s2KTznFjglWy"
      },
      "execution_count": 86,
      "outputs": []
    },
    {
      "cell_type": "code",
      "source": [
        "# Apply Latent Semantic Analysis (LSA) for dimensionality reduction\n",
        "lsa = TruncatedSVD(n_components=50)\n",
        "question_tfidf_lsa = lsa.fit_transform(question_tfidf_matrix)"
      ],
      "metadata": {
        "id": "vfkf4ygrg3fA"
      },
      "execution_count": 87,
      "outputs": []
    },
    {
      "cell_type": "code",
      "source": [
        "# Compute Cosine Similarity\n",
        "question_sim_df = pd.DataFrame(cosine_similarity(question_tfidf_lsa),\n",
        "                               index=dfQuestion['question_id'],\n",
        "                               columns=dfQuestion['question_id'])"
      ],
      "metadata": {
        "id": "2lrsptyMg5XB"
      },
      "execution_count": 88,
      "outputs": []
    },
    {
      "cell_type": "code",
      "source": [
        "# Strip whitespace from column names\n",
        "dfUsers.columns = dfUsers.columns.str.strip()"
      ],
      "metadata": {
        "id": "SUhnx3NTg95W"
      },
      "execution_count": 89,
      "outputs": []
    },
    {
      "cell_type": "code",
      "source": [
        "# CBF Recommendation Function\n",
        "def recommend_questions_content(user_id, num_questions=5):\n",
        "    user_data = dfUsers[dfUsers['user_id'] == user_id]\n",
        "    if user_data.empty:\n",
        "        return []\n",
        "\n",
        "    answered_questions = get_answered_questions(user_id)\n",
        "\n",
        "    user_prefs = ' '.join(user_data[['familiar_technologies']].values[0])\n",
        "    user_vector = vectorizer.transform([user_prefs])\n",
        "\n",
        "    similarity_scores = cosine_similarity(user_vector, question_tfidf_matrix).flatten()\n",
        "    sorted_indices = similarity_scores.argsort()[::-1]\n",
        "\n",
        "    recommended_questions = [\n",
        "        dfQuestion.iloc[i]['question_id']\n",
        "        for i in sorted_indices\n",
        "        if dfQuestion.iloc[i]['question_id'] not in answered_questions\n",
        "    ]\n",
        "\n",
        "    # Convert np.int64 to regular int\n",
        "    return [int(qid) for qid in recommended_questions[:num_questions]]\n"
      ],
      "metadata": {
        "id": "lk7pK_Iig-jk"
      },
      "execution_count": 90,
      "outputs": []
    },
    {
      "cell_type": "code",
      "source": [
        "# Bandit-Based Recommender\n",
        "class QuestionBanditRecommender:\n",
        "    def __init__(self, questions_df, users_df, interactions_df):\n",
        "        self.questions_df = questions_df\n",
        "        self.users_df = users_df\n",
        "        self.interactions_df = interactions_df\n",
        "        self.successes = {}\n",
        "        self.attempts = {}\n",
        "        for qid in questions_df['question_id']:\n",
        "            self.successes[qid] = 0\n",
        "            self.attempts[qid] = 1\n",
        "        for _, row in interactions_df.iterrows():\n",
        "            qid = row['question_id']\n",
        "            self.attempts[qid] += 1\n",
        "            if row['answerd_correctly'] == 1:\n",
        "                time = row['time_taken']\n",
        "                reward = 1 if time <= 30 else 0.8 if time <= 60 else 0.5\n",
        "                self.successes[qid] += reward\n",
        "\n",
        "    def ucb_score(self, qid, total_attempts):\n",
        "        mean_reward = self.successes[qid] / self.attempts[qid]\n",
        "        return mean_reward + np.sqrt((2 * np.log(total_attempts)) / self.attempts[qid])\n",
        "\n",
        "    def recommend(self, user_id, top_n=5):\n",
        "        user_row = self.users_df[self.users_df['user_id'] == user_id]\n",
        "        if user_row.empty:\n",
        "            return pd.DataFrame()\n",
        "        user = user_row.iloc[0]\n",
        "        user_techs = [t.strip().lower() for t in str(user['familiar_technologies']).split(',')]\n",
        "        user_level = str(user['expertise_level']).strip().lower()\n",
        "        user_answers = self.interactions_df[self.interactions_df['user_id'] == user_id]\n",
        "        answered_qids = set(user_answers['question_id'])\n",
        "        available_questions = self.questions_df[~self.questions_df['question_id'].isin(answered_qids)]\n",
        "        available_qids = available_questions['question_id'].tolist()\n",
        "        total_attempts = sum(self.attempts.values())\n",
        "\n",
        "        scored_qids = []\n",
        "        for qid in available_qids:\n",
        "            score = self.ucb_score(qid, total_attempts)\n",
        "            question_row = self.questions_df[self.questions_df['question_id'] == qid].iloc[0]\n",
        "            question_tags = [t.strip().lower() for t in str(question_row['tags']).split(',')]\n",
        "            topic_match = any(tech in question_tags for tech in user_techs)\n",
        "            difficulty_match = str(question_row['difficulty_level']).strip().lower() == user_level\n",
        "            if topic_match:\n",
        "                score *= 1.2\n",
        "            if difficulty_match:\n",
        "                score *= 1.1\n",
        "            scored_qids.append((qid, score))\n",
        "\n",
        "        scored_qids.sort(key=lambda x: x[1], reverse=True)\n",
        "        top_questions = [qid for qid, _ in scored_qids[:top_n]]\n",
        "        return self.questions_df[self.questions_df['question_id'].isin(top_questions)]\n",
        "\n",
        "# Instantiate recommender\n",
        "recommender = QuestionBanditRecommender(dfQuestion, dfUsers, dfQuestionUser)"
      ],
      "metadata": {
        "id": "Zj_eb8Vnsyq8"
      },
      "execution_count": 91,
      "outputs": []
    },
    {
      "cell_type": "code",
      "source": [
        "# Clean Job Titles\n",
        "unwanted_keywords = [\"se\", \"software engineer\", \"associate\", \"full stack\", \"fullstack\", \"developer\", \"designer\", \"engineer\"]\n",
        "pattern = r'\\b(?:' + '|'.join(map(re.escape, unwanted_keywords)) + r')\\b'\n",
        "\n",
        "dfJobTitles['Job Title'] = dfJobTitles['Job Title'].str.lower().str.replace(pattern, '', regex=True)\n",
        "dfJobTitles['Job Title'] = dfJobTitles['Job Title'].str.replace(r'\\s+', ' ', regex=True).str.strip()\n",
        "job_keywords = dfJobTitles['Job Title'][dfJobTitles['Job Title'].str.strip() != ''].unique().tolist()\n",
        "\n",
        "# Add Job Title Matching Score\n",
        "dfQuestion = dfQuestion.applymap(lambda x: x.lower() if isinstance(x, str) else x)\n",
        "\n",
        "def matches_job_title(row):\n",
        "    return any(any(keyword in str(row[col]) for keyword in job_keywords) for col in ['question', 'topic', 'tags'])\n",
        "\n",
        "dfQuestion['job_title_match'] = dfQuestion.apply(matches_job_title, axis=1).astype(int)\n",
        "\n",
        "# Display Job Title-Based Recommendations (only)\n",
        "def recommend_questions_job_title_only(user_id, num_questions=10):\n",
        "    answered = get_answered_questions(user_id)\n",
        "    job_related_questions = dfQuestion[(dfQuestion['job_title_match'] == 1) & (~dfQuestion['question_id'].isin(answered))]\n",
        "    return job_related_questions.head(num_questions)['question_id'].tolist()\n",
        "\n",
        "\n",
        "# print(dfQuestion.head(100))"
      ],
      "metadata": {
        "colab": {
          "base_uri": "https://localhost:8080/"
        },
        "id": "VEc-w4CcD8xK",
        "outputId": "50655827-9c80-4b39-f24f-e8acba168023"
      },
      "execution_count": 92,
      "outputs": [
        {
          "output_type": "stream",
          "name": "stderr",
          "text": [
            "<ipython-input-92-c6c59d83c301>:10: FutureWarning: DataFrame.applymap has been deprecated. Use DataFrame.map instead.\n",
            "  dfQuestion = dfQuestion.applymap(lambda x: x.lower() if isinstance(x, str) else x)\n"
          ]
        }
      ]
    },
    {
      "cell_type": "markdown",
      "source": [
        "# **5. Hybrid Recommendation System**"
      ],
      "metadata": {
        "id": "RcoKz-jAhDsB"
      }
    },
    {
      "cell_type": "code",
      "source": [
        "# Hybrid Recommendation\n",
        "def hybrid_recommendations(user_id, num_questions=10, alpha=0.35, beta=0.25, gamma=0.25, delta=0.15):\n",
        "    collab_recs = recommend_questions_collab(user_id, num_questions * 2)\n",
        "    content_recs = recommend_questions_content(user_id, num_questions * 2)\n",
        "    bandit_df = recommender.recommend(user_id, top_n=num_questions * 2)\n",
        "    bandit_recs = bandit_df['question_id'].tolist()\n",
        "\n",
        "    score_dict = {}\n",
        "    for i, qid in enumerate(collab_recs):\n",
        "        score_dict[qid] = score_dict.get(qid, 0) + alpha * (1 / (i + 1))\n",
        "    for i, qid in enumerate(content_recs):\n",
        "        score_dict[qid] = score_dict.get(qid, 0) + beta * (1 / (i + 1))\n",
        "    for i, qid in enumerate(bandit_recs):\n",
        "        score_dict[qid] = score_dict.get(qid, 0) + gamma * (1 / (i + 1))\n",
        "    for qid in score_dict:\n",
        "        if dfQuestion[dfQuestion['question_id'] == qid]['job_title_match'].values[0]:\n",
        "            score_dict[qid] += delta\n",
        "\n",
        "    sorted_questions = sorted(score_dict.items(), key=lambda x: x[1], reverse=True)\n",
        "    top_ids = [qid for qid, _ in sorted_questions[:num_questions]]\n",
        "    return dfQuestion[dfQuestion['question_id'].isin(top_ids)]\n"
      ],
      "metadata": {
        "id": "irv5hrYmEVvg"
      },
      "execution_count": 93,
      "outputs": []
    },
    {
      "cell_type": "markdown",
      "source": [
        "# **6. Test the Recommendation System**"
      ],
      "metadata": {
        "id": "8FJnJUfihQD0"
      }
    },
    {
      "cell_type": "code",
      "source": [
        "# Test\n",
        "user_id = 2\n",
        "print(\"Collaborative Filtering Recommendations:\", recommend_questions_collab(user_id))\n",
        "print(\"Content-Based Filtering Recommendations:\", recommend_questions_content(user_id))\n",
        "bandit_recs = recommender.recommend(user_id)\n",
        "bandit_ids = bandit_recs['question_id'].tolist()\n",
        "print(\"Reinforcement Learning Recommendations:\", bandit_ids)\n",
        "print(\"Job Title-Based Recommendations:\", recommend_questions_job_title_only(user_id))\n",
        "\n",
        "print(\"Hybrid Recommendations (with job-title boosting):\", hybrid_recommendations(user_id)['question_id'].tolist())"
      ],
      "metadata": {
        "id": "F4oKnMKaDwoi",
        "colab": {
          "base_uri": "https://localhost:8080/"
        },
        "outputId": "4c092a98-79b8-4e82-e5ad-ba6a8e89f208"
      },
      "execution_count": 94,
      "outputs": [
        {
          "output_type": "stream",
          "name": "stdout",
          "text": [
            "Collaborative Filtering Recommendations: [237, 111, 48, 300, 174]\n",
            "Content-Based Filtering Recommendations: [21, 153, 79, 177, 199]\n",
            "Reinforcement Learning Recommendations: [5, 7, 12, 19, 21]\n",
            "Job Title-Based Recommendations: [1, 3, 9, 10, 13, 16, 20, 28, 31, 37]\n",
            "Hybrid Recommendations (with job-title boosting): [5, 21, 67, 70, 73, 111, 142, 145, 205, 237]\n"
          ]
        }
      ]
    }
  ]
}